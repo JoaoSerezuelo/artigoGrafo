{
 "cells": [
  {
   "cell_type": "code",
   "execution_count": 27,
   "metadata": {},
   "outputs": [],
   "source": [
    "import networkx as nx\n",
    "import matplotlib.pyplot as plt\n",
    "import numpy as np\n",
    "from itertools import combinations\n",
    "from geopy.distance import geodesic"
   ]
  },
  {
   "cell_type": "markdown",
   "metadata": {},
   "source": [
    "## cidades do paraná\n",
    "17"
   ]
  },
  {
   "cell_type": "code",
   "execution_count": 28,
   "metadata": {},
   "outputs": [],
   "source": [
    "cidades = {\n",
    "    \"Curitiba\": (-25.4296, -49.2713),\n",
    "    \"Londrina\": (-23.3040, -51.1696),\n",
    "    \"Maringá\": (-23.4209, -51.9331),\n",
    "    \"Cascavel\": (-24.9555, -53.4552),\n",
    "    \"Ponta Grossa\": (-25.0945, -50.1633),\n",
    "    \"Foz do Iguaçu\": (-25.5427, -54.5827),\n",
    "    \"Apucarana\": (-23.5504, -51.4634),\n",
    "    \"Campo Mourão\": (-24.0463, -52.3781),\n",
    "    \"Cornélio Procópio\": (-23.1825, -50.6547),\n",
    "    \"Dois Vizinhos\": (-25.7402, -53.0574),\n",
    "    \"Francisco Beltrão\": (-26.0818, -53.0534),\n",
    "    \"Guarapuava\": (-25.3902, -51.4628),\n",
    "    \"Medianeira\": (-25.2946, -54.0936),\n",
    "    \"Pato Branco\": (-26.2292, -52.6706),\n",
    "    \"Santa Helena\": (-24.8585, -54.3363),\n",
    "    \"Toledo\": (-24.7245, -53.7413),\n",
    "    \"Marechal Cândido Rondon\": (-24.5566, -54.0561)\n",
    "}"
   ]
  },
  {
   "cell_type": "code",
   "execution_count": 29,
   "metadata": {},
   "outputs": [],
   "source": [
    "# Criar o grafo e adicionar os nós\n",
    "G = nx.Graph()\n",
    "for cidade, coordenadas in cidades.items():\n",
    "    G.add_node(cidade, pos=coordenadas)\n",
    "\n",
    "# Adicionar arestas com distâncias reais entre as cidades\n",
    "for (cidade1, coord1), (cidade2, coord2) in combinations(cidades.items(), 2):\n",
    "    distance = geodesic(coord1, coord2).kilometers\n",
    "    G.add_edge(cidade1, cidade2, weight=distance)"
   ]
  },
  {
   "cell_type": "markdown",
   "metadata": {},
   "source": [
    "## caixeiro viajante"
   ]
  },
  {
   "cell_type": "code",
   "execution_count": 30,
   "metadata": {},
   "outputs": [
    {
     "ename": "KeyError",
     "evalue": "'Curitiba'",
     "output_type": "error",
     "traceback": [
      "\u001b[1;31m---------------------------------------------------------------------------\u001b[0m",
      "\u001b[1;31mKeyError\u001b[0m                                  Traceback (most recent call last)",
      "Cell \u001b[1;32mIn[30], line 23\u001b[0m\n\u001b[0;32m     21\u001b[0m cidade1 \u001b[38;5;241m=\u001b[39m caminho_tsp[\u001b[38;5;241m-\u001b[39m\u001b[38;5;241m1\u001b[39m]\n\u001b[0;32m     22\u001b[0m cidade2 \u001b[38;5;241m=\u001b[39m caminho_tsp[\u001b[38;5;241m0\u001b[39m]\n\u001b[1;32m---> 23\u001b[0m distancia \u001b[38;5;241m=\u001b[39m \u001b[43mG\u001b[49m\u001b[43m[\u001b[49m\u001b[43mcidade1\u001b[49m\u001b[43m]\u001b[49m\u001b[43m[\u001b[49m\u001b[43mcidade2\u001b[49m\u001b[43m]\u001b[49m[\u001b[38;5;124m'\u001b[39m\u001b[38;5;124mweight\u001b[39m\u001b[38;5;124m'\u001b[39m]\n\u001b[0;32m     24\u001b[0m distancia_total \u001b[38;5;241m+\u001b[39m\u001b[38;5;241m=\u001b[39m distancia\n\u001b[0;32m     25\u001b[0m legenda\u001b[38;5;241m.\u001b[39mappend(\u001b[38;5;124mf\u001b[39m\u001b[38;5;124m\"\u001b[39m\u001b[38;5;132;01m{\u001b[39;00mcidade1\u001b[38;5;132;01m}\u001b[39;00m\u001b[38;5;124m --- \u001b[39m\u001b[38;5;132;01m{\u001b[39;00mdistancia\u001b[38;5;132;01m:\u001b[39;00m\u001b[38;5;124m.2f\u001b[39m\u001b[38;5;132;01m}\u001b[39;00m\u001b[38;5;124m km --- \u001b[39m\u001b[38;5;132;01m{\u001b[39;00mcidade2\u001b[38;5;132;01m}\u001b[39;00m\u001b[38;5;124m\"\u001b[39m)\n",
      "File \u001b[1;32mc:\\Users\\jpedr\\AppData\\Local\\Programs\\Python\\Python312\\Lib\\site-packages\\networkx\\classes\\coreviews.py:53\u001b[0m, in \u001b[0;36mAtlasView.__getitem__\u001b[1;34m(self, key)\u001b[0m\n\u001b[0;32m     52\u001b[0m \u001b[38;5;28;01mdef\u001b[39;00m \u001b[38;5;21m__getitem__\u001b[39m(\u001b[38;5;28mself\u001b[39m, key):\n\u001b[1;32m---> 53\u001b[0m     \u001b[38;5;28;01mreturn\u001b[39;00m \u001b[38;5;28;43mself\u001b[39;49m\u001b[38;5;241;43m.\u001b[39;49m\u001b[43m_atlas\u001b[49m\u001b[43m[\u001b[49m\u001b[43mkey\u001b[49m\u001b[43m]\u001b[49m\n",
      "\u001b[1;31mKeyError\u001b[0m: 'Curitiba'"
     ]
    }
   ],
   "source": [
    "# Escolher as cidades a serem visitadas\n",
    "cidades_selecionadas = [\"Curitiba\", \"Londrina\", \"Maringá\", \"Cascavel\", \"Foz do Iguaçu\"]\n",
    "\n",
    "# Criar um subgrafo com as cidades selecionadas\n",
    "subgrafo = G.subgraph(cidades_selecionadas)\n",
    "\n",
    "# Resolver o problema do caixeiro viajante\n",
    "caminho_tsp = nx.approximation.traveling_salesman_problem(subgrafo, cycle=True)\n",
    "\n",
    "# Calcular a distância total percorrida e criar legenda\n",
    "distancia_total = 0\n",
    "legenda = []\n",
    "for i in range(len(caminho_tsp) - 1):\n",
    "    cidade1 = caminho_tsp[i]\n",
    "    cidade2 = caminho_tsp[i + 1]\n",
    "    distancia = G[cidade1][cidade2]['weight']\n",
    "    distancia_total += distancia\n",
    "    legenda.append(f\"{cidade1} --- {distancia:.2f} km --- {cidade2}\")\n",
    "\n",
    "# Adicionar a última aresta do ciclo\n",
    "cidade1 = caminho_tsp[-1]\n",
    "cidade2 = caminho_tsp[0]\n",
    "distancia = G[cidade1][cidade2]['weight']\n",
    "distancia_total += distancia\n",
    "legenda.append(f\"{cidade1} --- {distancia:.2f} km --- {cidade2}\")\n",
    "\n",
    "# Plotar o caminho encontrado pelo caixeiro viajante\n",
    "plt.figure(figsize=(10, 8))\n",
    "\n",
    "# Desenhar o subgrafo com o caminho do caixeiro viajante (somente a rota)\n",
    "nx.draw(subgrafo, pos=nx.get_node_attributes(G, 'pos'), with_labels=True, node_color='lightblue', node_size=500, font_size=10, edge_color='gray')\n",
    "nx.draw_networkx_edges(subgrafo, pos=nx.get_node_attributes(G, 'pos'), edgelist=list(zip(caminho_tsp, caminho_tsp[1:] + [caminho_tsp[0]])), edge_color='red', width=2)\n",
    "\n",
    "# Adicionar título com a distância total\n",
    "plt.title(f\"Caminho do Caixeiro Viajante - Distância Total: {distancia_total:.2f} km\")\n",
    "\n",
    "# Mostrar a legenda com a ordem de visitação e distâncias\n",
    "plt.legend(legenda, loc='upper left', fontsize='small', title=\"Ordem de Visitação\")\n",
    "\n",
    "plt.show()"
   ]
  }
 ],
 "metadata": {
  "kernelspec": {
   "display_name": "Python 3",
   "language": "python",
   "name": "python3"
  },
  "language_info": {
   "codemirror_mode": {
    "name": "ipython",
    "version": 3
   },
   "file_extension": ".py",
   "mimetype": "text/x-python",
   "name": "python",
   "nbconvert_exporter": "python",
   "pygments_lexer": "ipython3",
   "version": "3.12.1"
  }
 },
 "nbformat": 4,
 "nbformat_minor": 2
}
